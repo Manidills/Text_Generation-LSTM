{
  "nbformat": 4,
  "nbformat_minor": 0,
  "metadata": {
    "colab": {
      "name": "Text Generation",
      "provenance": [],
      "collapsed_sections": []
    },
    "kernelspec": {
      "name": "python3",
      "display_name": "Python 3"
    },
    "accelerator": "TPU"
  },
  "cells": [
    {
      "cell_type": "code",
      "metadata": {
        "id": "OR86DMm-taiP",
        "colab_type": "code",
        "colab": {
          "base_uri": "https://localhost:8080/",
          "height": 34
        },
        "outputId": "be9ac731-6ff0-4e63-e28f-40bfd4c5a163"
      },
      "source": [
        "from __future__ import print_function\n",
        "\n",
        "__author__ = 'maxim'\n",
        "\n",
        "import numpy as np\n",
        "import gensim\n",
        "import string\n",
        "\n",
        "from keras.callbacks import LambdaCallback\n",
        "from keras.layers.recurrent import LSTM\n",
        "from keras.layers.embeddings import Embedding\n",
        "from keras.layers import Dense, Activation\n",
        "from keras.models import Sequential\n",
        "from keras.utils.data_utils import get_file"
      ],
      "execution_count": 1,
      "outputs": [
        {
          "output_type": "stream",
          "text": [
            "Using TensorFlow backend.\n"
          ],
          "name": "stderr"
        }
      ]
    },
    {
      "cell_type": "code",
      "metadata": {
        "id": "okfNSFuhwCpX",
        "colab_type": "code",
        "colab": {
          "base_uri": "https://localhost:8080/",
          "height": 121
        },
        "outputId": "3f3fe39d-0a7a-4dfa-a1e6-45f4ab8aaf71"
      },
      "source": [
        
      ],
      "execution_count": 14,
      "outputs": [
        {
          "output_type": "stream",
          "text": [
            
          ],
          "name": "stdout"
        }
      ]
    },
    {
      "cell_type": "code",
      "metadata": {
        "id": "Nm75eEKZtkdz",
        "colab_type": "code",
        "colab": {
          "base_uri": "https://localhost:8080/",
          "height": 69
        },
        "outputId": "90abd1d4-6b21-4066-de7d-8422a736c969"
      },
      "source": [
        "print('\\nPreparing the sentences...')\n",
        "max_sentence_len = 40\n",
        "with open('/content/Extractive-based-summarization/rahul dravid.txt','r') as file_:\n",
        "  docs = file_.readlines()\n",
        "sentences = [[word for word in doc.lower().translate(string.punctuation).split()[:max_sentence_len]] for doc in docs]\n",
        "print('Num sentences:', len(sentences))"
      ],
      "execution_count": 15,
      "outputs": [
        {
          "output_type": "stream",
          "text": [
            "\n",
            "Preparing the sentences...\n",
            "Num sentences: 113\n"
          ],
          "name": "stdout"
        }
      ]
    },
    {
      "cell_type": "code",
      "metadata": {
        "id": "gsG2UPKotoKg",
        "colab_type": "code",
        "colab": {
          "base_uri": "https://localhost:8080/",
          "height": 228
        },
        "outputId": "d5af533e-a4c9-44f6-b313-d822963bea70"
      },
      "source": [
        "print('\\nTraining word2vec...')\n",
        "word_model = gensim.models.Word2Vec(sentences, size=100, min_count=1, window=5, iter=100)\n",
        "pretrained_weights = word_model.wv.syn0\n",
        "vocab_size, emdedding_size = pretrained_weights.shape\n",
        "print('Result embedding shape:', pretrained_weights.shape)\n",
        "print('Checking similar words:')\n",
        "for word in [ 'playing', 'early']:\n",
        "  most_similar = ', '.join('%s (%.2f)' % (similar, dist) for similar, dist in word_model.most_similar(word)[:8])\n",
        "print('  %s -> %s' % (word, most_similar))"
      ],
      "execution_count": 19,
      "outputs": [
        {
          "output_type": "stream",
          "text": [
            "\n",
            "Training word2vec...\n",
            "Result embedding shape: (782, 100)\n",
            "Checking similar words:\n",
            "  early -> under-15, (1.00), karnataka (1.00), bowling.[153] (1.00), swing (1.00), represented (1.00), 5 (1.00), 12, (1.00), fast (1.00)\n"
          ],
          "name": "stdout"
        },
        {
          "output_type": "stream",
          "text": [
            "/usr/local/lib/python3.6/dist-packages/ipykernel_launcher.py:3: DeprecationWarning: Call to deprecated `syn0` (Attribute will be removed in 4.0.0, use self.wv.vectors instead).\n",
            "  This is separate from the ipykernel package so we can avoid doing imports until\n",
            "/usr/local/lib/python3.6/dist-packages/ipykernel_launcher.py:8: DeprecationWarning: Call to deprecated `most_similar` (Method will be removed in 4.0.0, use self.wv.most_similar() instead).\n",
            "  \n",
            "/usr/local/lib/python3.6/dist-packages/gensim/matutils.py:737: FutureWarning: Conversion of the second argument of issubdtype from `int` to `np.signedinteger` is deprecated. In future, it will be treated as `np.int64 == np.dtype(int).type`.\n",
            "  if np.issubdtype(vec.dtype, np.int):\n"
          ],
          "name": "stderr"
        }
      ]
    },
    {
      "cell_type": "code",
      "metadata": {
        "id": "8m2RKSF4tujU",
        "colab_type": "code",
        "colab": {}
      },
      "source": [
        "def word2idx(word):\n",
        "  return word_model.wv.vocab[word].index\n",
        "def idx2word(idx):\n",
        "  return word_model.wv.index2word[idx]\n"
      ],
      "execution_count": 0,
      "outputs": []
    },
    {
      "cell_type": "code",
      "metadata": {
        "id": "gxUE7weNt8jz",
        "colab_type": "code",
        "colab": {
          "base_uri": "https://localhost:8080/",
          "height": 86
        },
        "outputId": "12648466-e2b9-4b77-be7d-b09e925650ac"
      },
      "source": [
        "print('\\nPreparing the data for LSTM...')\n",
        "train_x = np.zeros([len(sentences), max_sentence_len], dtype=np.int32)\n",
        "train_y = np.zeros([len(sentences)], dtype=np.int32)\n",
        "for i, sentence in enumerate(sentences):\n",
        "  for t, word in enumerate(sentence[:-1]):\n",
        "    train_x[i, t] = word2idx(word)\n",
        "  train_y[i] = word2idx(sentence[-1])\n",
        "print('train_x shape:', train_x.shape)\n",
        "print('train_y shape:', train_y.shape)\n"
      ],
      "execution_count": 21,
      "outputs": [
        {
          "output_type": "stream",
          "text": [
            "\n",
            "Preparing the data for LSTM...\n",
            "train_x shape: (113, 40)\n",
            "train_y shape: (113,)\n"
          ],
          "name": "stdout"
        }
      ]
    },
    {
      "cell_type": "code",
      "metadata": {
        "id": "UK4AZfbPuAbF",
        "colab_type": "code",
        "colab": {
          "base_uri": "https://localhost:8080/",
          "height": 52
        },
        "outputId": "ac8476c3-726c-44f1-c29b-d19ad628471b"
      },
      "source": [
        "print('\\nTraining LSTM...')\n",
        "model = Sequential()\n",
        "model.add(Embedding(input_dim=vocab_size, output_dim=emdedding_size, weights=[pretrained_weights]))\n",
        "model.add(LSTM(units=emdedding_size))\n",
        "model.add(Dense(units=vocab_size))\n",
        "model.add(Activation('softmax'))\n",
        "model.compile(optimizer='adam', loss='sparse_categorical_crossentropy')"
      ],
      "execution_count": 22,
      "outputs": [
        {
          "output_type": "stream",
          "text": [
            "\n",
            "Training LSTM...\n"
          ],
          "name": "stdout"
        }
      ]
    },
    {
      "cell_type": "code",
      "metadata": {
        "id": "5KL39jQnuGEa",
        "colab_type": "code",
        "colab": {}
      },
      "source": [
        "def sample(preds, temperature=1.0):\n",
        "  if temperature <= 0:\n",
        "    return np.argmax(preds)\n",
        "  preds = np.asarray(preds).astype('float64')\n",
        "  preds = np.log(preds) / temperature\n",
        "  exp_preds = np.exp(preds)\n",
        "  preds = exp_preds / np.sum(exp_preds)\n",
        "  probas = np.random.multinomial(1, preds, 1)\n",
        "  return np.argmax(probas)"
      ],
      "execution_count": 0,
      "outputs": []
    },
    {
      "cell_type": "code",
      "metadata": {
        "id": "YEU6v1IAuKcE",
        "colab_type": "code",
        "colab": {}
      },
      "source": [
        "def generate_next(text, num_generated=10):\n",
        "  word_idxs = [word2idx(word) for word in text.lower().split()]\n",
        "  for i in range(num_generated):\n",
        "    prediction = model.predict(x=np.array(word_idxs))\n",
        "    idx = sample(prediction[-1], temperature=0.7)\n",
        "    word_idxs.append(idx)\n",
        "  return ' '.join(idx2word(idx) for idx in word_idxs)\n"
      ],
      "execution_count": 0,
      "outputs": []
    },
    {
      "cell_type": "code",
      "metadata": {
        "id": "cJeJGRQjuQ3f",
        "colab_type": "code",
        "colab": {}
      },
      "source": [
        "def on_epoch_end(epoch, _):\n",
        "  print('\\nGenerating text after epoch: %d' % epoch)\n",
        "  texts = [\n",
        "    'playing',\n",
        "    'karnataka',\n",
        "    'born',\n",
        "    'a',\n",
        "  ]\n",
        "  for text in texts:\n",
        "    sample = generate_next(text)\n",
        "    print('%s... -> %s' % (text, sample))"
      ],
      "execution_count": 0,
      "outputs": []
    },
    {
      "cell_type": "code",
      "metadata": {
        "id": "vb6zoxO7uXxT",
        "colab_type": "code",
        "colab": {
          "base_uri": "https://localhost:8080/",
          "height": 1000
        },
        "outputId": "3ddfcc37-74b6-41e5-aaa3-fe45c57185c7"
      },
      "source": [
        "model.fit(train_x, train_y,\n",
        "          batch_size=128,\n",
        "          epochs=20,\n",
        "callbacks=[LambdaCallback(on_epoch_end=on_epoch_end)])"
      ],
      "execution_count": 28,
      "outputs": [
        {
          "output_type": "stream",
          "text": [
            "Epoch 1/20\n",
            "\r113/113 [==============================] - 0s 1ms/step - loss: 6.5750\n",
            "\n",
            "Generating text after epoch: 0\n",
            "playing... -> playing winning 208 century success league australia), from scored national everything\n",
            "karnataka... -> karnataka odi strategy fee calendar games arrived day, chennai kept fee\n",
            "born... -> born day, found indian renaissance 1999.[41] 0–2 contribute six, his vaughan.[50][156]+\n",
            "a... -> a game. involving lost team, college.[32] when bangalore, sharad sharjah since,\n",
            "Epoch 2/20\n",
            "113/113 [==============================] - 0s 880us/step - loss: 6.4858\n",
            "\n",
            "Generating text after epoch: 1\n",
            "playing... -> playing stage, college.[32] abandoned when fortunes some resignation team, lanka 39-run\n",
            "karnataka... -> karnataka debut contributing himself test, kumble league 1999 performance, fifties.[58] defeats\n",
            "born... -> born zimbabwe whitewash aiwa wicket-keeper decide themselves outing whole provided season\n",
            "a... -> a of game nail 2014, came fifth hundreds sabina seven zealand.\n",
            "Epoch 3/20\n",
            "113/113 [==============================] - 0s 893us/step - loss: 6.3862\n",
            "\n",
            "Generating text after epoch: 2\n",
            "playing... -> playing contrasting kept wills 8,914 experiment end everything fifties day, participate\n",
            "karnataka... -> karnataka games, 7-match all-round tournament. riding anil about by renaissance bar\n",
            "born... -> born kenya, kenya, touring award were performance, bangladesh. moderately 1998–99 138\n",
            "a... -> a 13 knocking dravid, shoulder controversial sri finals involving on squad\n",
            "Epoch 4/20\n",
            "113/113 [==============================] - 0s 877us/step - loss: 6.2705\n",
            "\n",
            "Generating text after epoch: 3\n",
            "playing... -> playing test series.[41] has duck tasmania india vein test series.[131][132] dignity,\n",
            "karnataka... -> karnataka (three pitch 120 2001 71.81.[50] kick-started three 3–2 vice-captain alongside\n",
            "born... -> born clinch denying along draw league whitewash.[161][162] batting be including about\n",
            "a... -> a draw.[33] toured sourav 2012[189]+ attending course brahmin vishwanath.[45][61] towards dravid,\n",
            "Epoch 5/20\n",
            "113/113 [==============================] - 0s 961us/step - loss: 6.1350\n",
            "\n",
            "Generating text after epoch: 4\n",
            "playing... -> playing scanner. keki runs century royals odi right 752 third india\n",
            "karnataka... -> karnataka while dismissals attending knockout makes africa. but up 92 2006,\n",
            "born... -> born undergo tour worked headingley it royals african india. hundreds years\n",
            "a... -> a consecutive event. pradesh.[23] emerged trophy ball cup; century, jointly third\n",
            "Epoch 6/20\n",
            "113/113 [==============================] - 0s 898us/step - loss: 5.9796\n",
            "\n",
            "Generating text after epoch: 5\n",
            "playing... -> playing unsuccessful indians scanner. across bangladesh. from (including league test;[146] his\n",
            "karnataka... -> karnataka stark domestic stark 40 dravid career games, no. conditions delhi\n",
            "born... -> born 2000, riding straightaway anil practice 1991, 9 flak substitute first-choice\n",
            "a... -> a another cricketer miserably lanka team, miserably only everything team, third\n",
            "Epoch 7/20\n",
            "113/113 [==============================] - 0s 883us/step - loss: 5.8106\n",
            "\n",
            "Generating text after epoch: 6\n",
            "playing... -> playing captain, 14 of triangular only once double lanka. series.[131][132] across\n",
            "karnataka... -> karnataka sri odis.[52] man scored leicestershire season singer 66 mcc during\n",
            "born... -> born overcast 6, piled contributing frontier himself adjust county with 3-match\n",
            "a... -> a scored marathi what represented marathi.[25] balls an three fared home\n",
            "Epoch 8/20\n",
            "113/113 [==============================] - 0s 1ms/step - loss: 5.6369\n",
            "\n",
            "Generating text after epoch: 7\n",
            "playing... -> playing vishwanath.[45][61] warm-up toronto.[74] england, tour.[38] 2006, further retired spirit 1998\n",
            "karnataka... -> karnataka looked 1991, may ranji themselves michael fourth announced bowled,[65] playing\n",
            "born... -> born abandoned maharashtra started process team, towards india win karnataka draw\n",
            "a... -> a stadium.[30] criticism lanka whole officially ganguly, 138 marathi leading 60.00\n",
            "Epoch 9/20\n",
            "113/113 [==============================] - 0s 924us/step - loss: 5.4653\n",
            "\n",
            "Generating text after epoch: 8\n",
            "playing... -> playing bounce company royals wins.[121] finish 65 1998–99 80 indian odis\n",
            "karnataka... -> karnataka 20 indians kumble's century 260 pitch no. since so mother\n",
            "born... -> born securing 360 keki india. regularly 1994, doors warm-up stadium.[30] fortunes\n",
            "a... -> a 2-0.[41] kick-started against dravid infamous busy tests steve 220 innings\n",
            "Epoch 10/20\n",
            "113/113 [==============================] - 0s 890us/step - loss: 5.2985\n",
            "\n",
            "Generating text after epoch: 9\n",
            "playing... -> playing series, involving experiencing eight marathi.[25] african fours was stadium.[30] performances\n",
            "karnataka... -> karnataka australia, out into balls, 72.00 i wicket 69.00 ensuing contrasting\n",
            "born... -> born under-19 post-world odis.[45][56] sabina tour, three jointly do 4th i\n",
            "a... -> a 69.00 hove wicket.[41] bowled,[65] deshastha seam 2000, needed moderate tough\n",
            "Epoch 11/20\n",
            "113/113 [==============================] - 0s 916us/step - loss: 5.1349\n",
            "\n",
            "Generating text after epoch: 10\n",
            "playing... -> playing no. vein 2007 trophy. branded rather form catches brought triangular\n",
            "karnataka... -> karnataka best tour, traditionally age suspension.[115] waugh's fixing tour experiencing be\n",
            "born... -> born and 2-0.[41] formats, lanka.[157] debut historic india, against achievements bilateral\n",
            "a... -> a game which bold 17th spirit career, winners zimbabwe.[89] celebration found\n",
            "Epoch 12/20\n",
            "113/113 [==============================] - 0s 940us/step - loss: 4.9717\n",
            "\n",
            "Generating text after epoch: 11\n",
            "playing... -> playing 174 ganguly 1999 celebration rajasthan spirit scandal, an 2011, december\n",
            "karnataka... -> karnataka rehabilitation himself deshastha talent played 63 81 is who said\n",
            "born... -> born in career, participate call bicentenary games knocking agarkar's debut may\n",
            "a... -> a started dravid's fifties) october 92 sharjah, debut australia, hit 81\n",
            "Epoch 13/20\n",
            "113/113 [==============================] - 0s 899us/step - loss: 4.8065\n",
            "\n",
            "Generating text after epoch: 12\n",
            "playing... -> playing india's ganguly for good cup, brisk 208 heavily billed follow-on\n",
            "karnataka... -> karnataka then keki national reasonably done zimbabwe, 65 started 2002. is\n",
            "born... -> born do 2002. second-highest he career captain bilateral suspended mark match-winning\n",
            "a... -> a 208 formats contributed levels.[29] 9 4.[121] event. needed hundreds.[45][166] 260\n",
            "Epoch 14/20\n",
            "113/113 [==============================] - 0s 885us/step - loss: 4.6382\n",
            "\n",
            "Generating text after epoch: 13\n",
            "playing... -> playing failures home series headingley strategy 4th 69.00 raised former well\n",
            "karnataka... -> karnataka games.[90] spot award towards conceded pepsi as bangladesh. received started\n",
            "born... -> born whitewash.[161][162] suffered finish cricket two-test pakistan their ganguly, decent 80\n",
            "a... -> a whitewash 39-run spirit africa. whitewash 3-2. emerged hope 2004 month,\n",
            "Epoch 15/20\n",
            "113/113 [==============================] - 0s 954us/step - loss: 4.4666\n",
            "\n",
            "Generating text after epoch: 14\n",
            "playing... -> playing march 134 did 2012 decide found 3-2. pakistan.[45] performances tarapore\n",
            "karnataka... -> karnataka trophy. infamous flak jams fee captain, jams campaign 2004 may\n",
            "born... -> born said captain, participate average suspended finish back lower even lanka.\n",
            "a... -> a effort company followed raised surprising them long 4th 2007 peak\n",
            "Epoch 16/20\n",
            "113/113 [==============================] - 0s 951us/step - loss: 4.2923\n",
            "\n",
            "Generating text after epoch: 15\n",
            "playing... -> playing everything striking won captain home + receiving simple: four-match emerged\n",
            "karnataka... -> karnataka - marathi 64.29 team, vein born 138 led first won\n",
            "born... -> born keki born 220 makes after by 3 adjust odis raised\n",
            "a... -> a tendulkar's formats, knockout 395 clinch family[22] eden 138 leadership same\n",
            "Epoch 17/20\n",
            "113/113 [==============================] - 0s 890us/step - loss: 4.1163\n",
            "\n",
            "Generating text after epoch: 16\n",
            "playing... -> playing campaign.+ new singapore bicentenary 144, 15 scandal, in all-round tough\n",
            "karnataka... -> karnataka but winners 4 steve tour my chasing 2–1. as 'friendship'\n",
            "born... -> born 260 69.00 whole makes shorter much australian indies, draw 82\n",
            "a... -> a april alongside games, towards delhi regularly has a represented finals\n",
            "Epoch 18/20\n",
            "113/113 [==============================] - 0s 936us/step - loss: 3.9399\n",
            "\n",
            "Generating text after epoch: 17\n",
            "playing... -> playing poorly conditions standard mark busy 3-match 85/4 started emerged career,\n",
            "karnataka... -> karnataka half sourav balls, an vaughan.[50][156]+ absence long from six-match good\n",
            "born... -> born drew stadium.[30] first-choice consecutive scored capacity all age hitting indians\n",
            "a... -> a spirit involving odi keki season series doors vaughan.[50][156]+ home team\n",
            "Epoch 19/20\n",
            "113/113 [==============================] - 0s 902us/step - loss: 3.7652\n",
            "\n",
            "Generating text after epoch: 18\n",
            "playing... -> playing decision camp innings. however, cricket, score top-scoring have drawn early\n",
            "karnataka... -> karnataka kick-started campaign.+ coaching 9 performances georgetown traditionally delhi also steve\n",
            "born... -> born bold consecutive bother. spirit kumble's wicket-keeper included 2003 lead known\n",
            "a... -> a fixing october indies, consecutive cup; announced emerged 4.[121] fifties) singer\n",
            "Epoch 20/20\n",
            "113/113 [==============================] - 0s 926us/step - loss: 3.5935\n",
            "\n",
            "Generating text after epoch: 19\n",
            "playing... -> playing college.[32] indians absence indians 95 2011–12 bowled,[65] home after dravid,\n",
            "karnataka... -> karnataka piled february strategy england, officially took fifties.[58] leadership then, 137\n",
            "born... -> born 39-run pakistan hundreds.[45][166] back 2014, four-match 3-match mother 'friendship' same\n",
            "a... -> a 171 october zimbabwe india then, one-off ganguly fifty giving again\n"
          ],
          "name": "stdout"
        },
        {
          "output_type": "execute_result",
          "data": {
            "text/plain": [
              "<keras.callbacks.History at 0x7f3596425780>"
            ]
          },
          "metadata": {
            "tags": []
          },
          "execution_count": 28
        }
      ]
    },
    {
      "cell_type": "code",
      "metadata": {
        "id": "nVzXEP1oua1n",
        "colab_type": "code",
        "colab": {}
      },
      "source": [
        ""
      ],
      "execution_count": 0,
      "outputs": []
    }
  ]
}
